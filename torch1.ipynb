{
 "cells": [
  {
   "cell_type": "code",
   "id": "initial_id",
   "metadata": {
    "collapsed": true,
    "ExecuteTime": {
     "end_time": "2025-01-14T07:01:06.307202Z",
     "start_time": "2025-01-14T07:01:02.646783Z"
    }
   },
   "source": [
    "import torch\n",
    "torch.__version__"
   ],
   "outputs": [
    {
     "data": {
      "text/plain": [
       "'2.3.1'"
      ]
     },
     "execution_count": 1,
     "metadata": {},
     "output_type": "execute_result"
    }
   ],
   "execution_count": 1
  },
  {
   "metadata": {
    "ExecuteTime": {
     "end_time": "2025-02-11T10:58:25.855624Z",
     "start_time": "2025-02-11T10:57:52.567645Z"
    }
   },
   "cell_type": "code",
   "source": [
    "numbers=int(input())\n",
    "lst=[]\n",
    "for i in range(numbers):\n",
    "    lst.append(int(input()))\n",
    "lst.sort(reverse=True)\n",
    "length=len(lst)\n",
    "if length%2==0:\n",
    "    print((lst[length//2-1]+lst[length//2])/2)\n",
    "else:\n",
    "    print(lst[length//2])\n"
   ],
   "id": "962ba79623e804cc",
   "outputs": [
    {
     "name": "stdout",
     "output_type": "stream",
     "text": [
      "25.0\n"
     ]
    }
   ],
   "execution_count": 1
  },
  {
   "metadata": {
    "ExecuteTime": {
     "end_time": "2025-02-11T11:08:10.909414Z",
     "start_time": "2025-02-11T11:07:50.159884Z"
    }
   },
   "cell_type": "code",
   "source": [
    "\n",
    "number_of_mice=int(input())\n",
    "ls=[]\n",
    "for i in range(number_of_mice):\n",
    "    ls.append(input().split())\n",
    "ls=[[int(i[0]),i[1]] for i in ls]\n",
    "ls.sort(key=lambda x:x[0],reverse=True)\n",
    "for i in ls:\n",
    "    print(i[1])"
   ],
   "id": "729c25d10968d570",
   "outputs": [
    {
     "name": "stdout",
     "output_type": "stream",
     "text": [
      "blue\n",
      "green\n",
      "red\n"
     ]
    }
   ],
   "execution_count": 3
  },
  {
   "metadata": {
    "ExecuteTime": {
     "end_time": "2025-02-13T02:53:19.643374Z",
     "start_time": "2025-02-13T02:53:12.065989Z"
    }
   },
   "cell_type": "code",
   "source": [
    "ls=input()\n",
    "word1=input()\n",
    "word2=input()\n",
    "new_ls=ls.replace(word1,word2)\n",
    "print(new_ls)"
   ],
   "id": "15560e96bfda2057",
   "outputs": [
    {
     "name": "stdout",
     "output_type": "stream",
     "text": [
      "I want someone to help you\n"
     ]
    }
   ],
   "execution_count": 3
  }
 ],
 "metadata": {
  "kernelspec": {
   "display_name": "Python 3",
   "language": "python",
   "name": "python3"
  },
  "language_info": {
   "codemirror_mode": {
    "name": "ipython",
    "version": 2
   },
   "file_extension": ".py",
   "mimetype": "text/x-python",
   "name": "python",
   "nbconvert_exporter": "python",
   "pygments_lexer": "ipython2",
   "version": "2.7.6"
  }
 },
 "nbformat": 4,
 "nbformat_minor": 5
}
